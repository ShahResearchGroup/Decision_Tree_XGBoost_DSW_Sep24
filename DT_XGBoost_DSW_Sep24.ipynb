{
  "nbformat": 4,
  "nbformat_minor": 0,
  "metadata": {
    "colab": {
      "provenance": []
    },
    "kernelspec": {
      "name": "python3",
      "display_name": "Python 3"
    },
    "language_info": {
      "name": "python"
    }
  },
  "cells": [
    {
      "cell_type": "code",
      "execution_count": null,
      "metadata": {
        "id": "4bLK5pU4bmX9"
      },
      "outputs": [],
      "source": []
    },
    {
      "cell_type": "markdown",
      "source": [
        "# Decision Tree Model and XGBoost\n",
        "\n",
        "Author: Jindal K. Shah, School of Chemical Engineering, Oklahoma State University\n",
        "\n",
        "Data Science Workshop, September 20, 2024\n",
        "\n",
        "\n",
        "In this Google colab, we will use a decision tree and extreme gradient boosting (XGBoost) to models predict the boiling point data for organic compounds. The dataset was acquired from the paper\n",
        "\n",
        "Journal of Chemical Education, 96(4), 697-703, 2019\n",
        "\n",
        "*   Import XGBoost package\n",
        "*   Change the number of boosted trees\n",
        "*   Plot the score as a function of the number of boosted trees"
      ],
      "metadata": {
        "id": "0-Fy0jm4b2Kb"
      }
    },
    {
      "cell_type": "code",
      "source": [
        "import numpy as np\n",
        "from google.colab import files\n",
        "uploaded = files.upload()\n"
      ],
      "metadata": {
        "id": "EHoPh1S3cVkn",
        "colab": {
          "base_uri": "https://localhost:8080/",
          "height": 77
        },
        "outputId": "05b9046c-38ac-44d1-97b6-758c36c14d22"
      },
      "execution_count": 1,
      "outputs": [
        {
          "output_type": "display_data",
          "data": {
            "text/plain": [
              "<IPython.core.display.HTML object>"
            ],
            "text/html": [
              "\n",
              "     <input type=\"file\" id=\"files-d3a39c38-b8a1-4931-b2ba-f6efba0cf2b8\" name=\"files[]\" multiple disabled\n",
              "        style=\"border:none\" />\n",
              "     <output id=\"result-d3a39c38-b8a1-4931-b2ba-f6efba0cf2b8\">\n",
              "      Upload widget is only available when the cell has been executed in the\n",
              "      current browser session. Please rerun this cell to enable.\n",
              "      </output>\n",
              "      <script>// Copyright 2017 Google LLC\n",
              "//\n",
              "// Licensed under the Apache License, Version 2.0 (the \"License\");\n",
              "// you may not use this file except in compliance with the License.\n",
              "// You may obtain a copy of the License at\n",
              "//\n",
              "//      http://www.apache.org/licenses/LICENSE-2.0\n",
              "//\n",
              "// Unless required by applicable law or agreed to in writing, software\n",
              "// distributed under the License is distributed on an \"AS IS\" BASIS,\n",
              "// WITHOUT WARRANTIES OR CONDITIONS OF ANY KIND, either express or implied.\n",
              "// See the License for the specific language governing permissions and\n",
              "// limitations under the License.\n",
              "\n",
              "/**\n",
              " * @fileoverview Helpers for google.colab Python module.\n",
              " */\n",
              "(function(scope) {\n",
              "function span(text, styleAttributes = {}) {\n",
              "  const element = document.createElement('span');\n",
              "  element.textContent = text;\n",
              "  for (const key of Object.keys(styleAttributes)) {\n",
              "    element.style[key] = styleAttributes[key];\n",
              "  }\n",
              "  return element;\n",
              "}\n",
              "\n",
              "// Max number of bytes which will be uploaded at a time.\n",
              "const MAX_PAYLOAD_SIZE = 100 * 1024;\n",
              "\n",
              "function _uploadFiles(inputId, outputId) {\n",
              "  const steps = uploadFilesStep(inputId, outputId);\n",
              "  const outputElement = document.getElementById(outputId);\n",
              "  // Cache steps on the outputElement to make it available for the next call\n",
              "  // to uploadFilesContinue from Python.\n",
              "  outputElement.steps = steps;\n",
              "\n",
              "  return _uploadFilesContinue(outputId);\n",
              "}\n",
              "\n",
              "// This is roughly an async generator (not supported in the browser yet),\n",
              "// where there are multiple asynchronous steps and the Python side is going\n",
              "// to poll for completion of each step.\n",
              "// This uses a Promise to block the python side on completion of each step,\n",
              "// then passes the result of the previous step as the input to the next step.\n",
              "function _uploadFilesContinue(outputId) {\n",
              "  const outputElement = document.getElementById(outputId);\n",
              "  const steps = outputElement.steps;\n",
              "\n",
              "  const next = steps.next(outputElement.lastPromiseValue);\n",
              "  return Promise.resolve(next.value.promise).then((value) => {\n",
              "    // Cache the last promise value to make it available to the next\n",
              "    // step of the generator.\n",
              "    outputElement.lastPromiseValue = value;\n",
              "    return next.value.response;\n",
              "  });\n",
              "}\n",
              "\n",
              "/**\n",
              " * Generator function which is called between each async step of the upload\n",
              " * process.\n",
              " * @param {string} inputId Element ID of the input file picker element.\n",
              " * @param {string} outputId Element ID of the output display.\n",
              " * @return {!Iterable<!Object>} Iterable of next steps.\n",
              " */\n",
              "function* uploadFilesStep(inputId, outputId) {\n",
              "  const inputElement = document.getElementById(inputId);\n",
              "  inputElement.disabled = false;\n",
              "\n",
              "  const outputElement = document.getElementById(outputId);\n",
              "  outputElement.innerHTML = '';\n",
              "\n",
              "  const pickedPromise = new Promise((resolve) => {\n",
              "    inputElement.addEventListener('change', (e) => {\n",
              "      resolve(e.target.files);\n",
              "    });\n",
              "  });\n",
              "\n",
              "  const cancel = document.createElement('button');\n",
              "  inputElement.parentElement.appendChild(cancel);\n",
              "  cancel.textContent = 'Cancel upload';\n",
              "  const cancelPromise = new Promise((resolve) => {\n",
              "    cancel.onclick = () => {\n",
              "      resolve(null);\n",
              "    };\n",
              "  });\n",
              "\n",
              "  // Wait for the user to pick the files.\n",
              "  const files = yield {\n",
              "    promise: Promise.race([pickedPromise, cancelPromise]),\n",
              "    response: {\n",
              "      action: 'starting',\n",
              "    }\n",
              "  };\n",
              "\n",
              "  cancel.remove();\n",
              "\n",
              "  // Disable the input element since further picks are not allowed.\n",
              "  inputElement.disabled = true;\n",
              "\n",
              "  if (!files) {\n",
              "    return {\n",
              "      response: {\n",
              "        action: 'complete',\n",
              "      }\n",
              "    };\n",
              "  }\n",
              "\n",
              "  for (const file of files) {\n",
              "    const li = document.createElement('li');\n",
              "    li.append(span(file.name, {fontWeight: 'bold'}));\n",
              "    li.append(span(\n",
              "        `(${file.type || 'n/a'}) - ${file.size} bytes, ` +\n",
              "        `last modified: ${\n",
              "            file.lastModifiedDate ? file.lastModifiedDate.toLocaleDateString() :\n",
              "                                    'n/a'} - `));\n",
              "    const percent = span('0% done');\n",
              "    li.appendChild(percent);\n",
              "\n",
              "    outputElement.appendChild(li);\n",
              "\n",
              "    const fileDataPromise = new Promise((resolve) => {\n",
              "      const reader = new FileReader();\n",
              "      reader.onload = (e) => {\n",
              "        resolve(e.target.result);\n",
              "      };\n",
              "      reader.readAsArrayBuffer(file);\n",
              "    });\n",
              "    // Wait for the data to be ready.\n",
              "    let fileData = yield {\n",
              "      promise: fileDataPromise,\n",
              "      response: {\n",
              "        action: 'continue',\n",
              "      }\n",
              "    };\n",
              "\n",
              "    // Use a chunked sending to avoid message size limits. See b/62115660.\n",
              "    let position = 0;\n",
              "    do {\n",
              "      const length = Math.min(fileData.byteLength - position, MAX_PAYLOAD_SIZE);\n",
              "      const chunk = new Uint8Array(fileData, position, length);\n",
              "      position += length;\n",
              "\n",
              "      const base64 = btoa(String.fromCharCode.apply(null, chunk));\n",
              "      yield {\n",
              "        response: {\n",
              "          action: 'append',\n",
              "          file: file.name,\n",
              "          data: base64,\n",
              "        },\n",
              "      };\n",
              "\n",
              "      let percentDone = fileData.byteLength === 0 ?\n",
              "          100 :\n",
              "          Math.round((position / fileData.byteLength) * 100);\n",
              "      percent.textContent = `${percentDone}% done`;\n",
              "\n",
              "    } while (position < fileData.byteLength);\n",
              "  }\n",
              "\n",
              "  // All done.\n",
              "  yield {\n",
              "    response: {\n",
              "      action: 'complete',\n",
              "    }\n",
              "  };\n",
              "}\n",
              "\n",
              "scope.google = scope.google || {};\n",
              "scope.google.colab = scope.google.colab || {};\n",
              "scope.google.colab._files = {\n",
              "  _uploadFiles,\n",
              "  _uploadFilesContinue,\n",
              "};\n",
              "})(self);\n",
              "</script> "
            ]
          },
          "metadata": {}
        },
        {
          "output_type": "stream",
          "name": "stdout",
          "text": [
            "Saving boiling_point_small.csv to boiling_point_small.csv\n"
          ]
        }
      ]
    },
    {
      "cell_type": "markdown",
      "source": [
        "The above piece of code imports the Numpy library and provides an interface to upload a file from your computer."
      ],
      "metadata": {
        "id": "SCrwDn1emjsq"
      }
    },
    {
      "cell_type": "code",
      "source": [
        "import pandas as pd\n",
        "import io\n",
        "\n",
        "# read the data as a pandas dataframe\n",
        "df = pd.read_csv(io.BytesIO(uploaded['boiling_point_small.csv']))\n"
      ],
      "metadata": {
        "id": "PFOtSU88cmER"
      },
      "execution_count": 2,
      "outputs": []
    },
    {
      "cell_type": "markdown",
      "source": [
        "We have uploaded the file boiling_point_small.cvs which contains the data for boiling point of several organic comounds as a function of molecular weight, critical temperature and acentric factor. The formatting of the data is seen below."
      ],
      "metadata": {
        "id": "v96DdIdsmuOf"
      }
    },
    {
      "cell_type": "code",
      "source": [
        "# let us look at the data\n",
        "df.describe()"
      ],
      "metadata": {
        "id": "_oel7sb1dA95",
        "colab": {
          "base_uri": "https://localhost:8080/",
          "height": 300
        },
        "outputId": "a4ab985e-0472-453f-a8ce-7411c08a3a88"
      },
      "execution_count": 3,
      "outputs": [
        {
          "output_type": "execute_result",
          "data": {
            "text/plain": [
              "        molweight  critical temperature (K)  acentric factor  \\\n",
              "count  100.000000                100.000000       100.000000   \n",
              "mean   157.134262                634.884000         0.521700   \n",
              "std     93.589816                118.079564         0.182879   \n",
              "min     58.080040                374.180000         0.224000   \n",
              "25%    102.165720                569.000000         0.341000   \n",
              "50%    134.134998                631.000000         0.508000   \n",
              "75%    162.274920                697.150000         0.709250   \n",
              "max    547.682640                992.100000         0.844000   \n",
              "\n",
              "       boiling point (K)   \n",
              "count          100.000000  \n",
              "mean           448.513700  \n",
              "std             97.891808  \n",
              "min            247.080000  \n",
              "25%            403.000000  \n",
              "50%            436.225000  \n",
              "75%            486.237500  \n",
              "max            693.150000  "
            ],
            "text/html": [
              "\n",
              "  <div id=\"df-8ae592f1-acba-426f-99f6-b7ca0beee609\" class=\"colab-df-container\">\n",
              "    <div>\n",
              "<style scoped>\n",
              "    .dataframe tbody tr th:only-of-type {\n",
              "        vertical-align: middle;\n",
              "    }\n",
              "\n",
              "    .dataframe tbody tr th {\n",
              "        vertical-align: top;\n",
              "    }\n",
              "\n",
              "    .dataframe thead th {\n",
              "        text-align: right;\n",
              "    }\n",
              "</style>\n",
              "<table border=\"1\" class=\"dataframe\">\n",
              "  <thead>\n",
              "    <tr style=\"text-align: right;\">\n",
              "      <th></th>\n",
              "      <th>molweight</th>\n",
              "      <th>critical temperature (K)</th>\n",
              "      <th>acentric factor</th>\n",
              "      <th>boiling point (K)</th>\n",
              "    </tr>\n",
              "  </thead>\n",
              "  <tbody>\n",
              "    <tr>\n",
              "      <th>count</th>\n",
              "      <td>100.000000</td>\n",
              "      <td>100.000000</td>\n",
              "      <td>100.000000</td>\n",
              "      <td>100.000000</td>\n",
              "    </tr>\n",
              "    <tr>\n",
              "      <th>mean</th>\n",
              "      <td>157.134262</td>\n",
              "      <td>634.884000</td>\n",
              "      <td>0.521700</td>\n",
              "      <td>448.513700</td>\n",
              "    </tr>\n",
              "    <tr>\n",
              "      <th>std</th>\n",
              "      <td>93.589816</td>\n",
              "      <td>118.079564</td>\n",
              "      <td>0.182879</td>\n",
              "      <td>97.891808</td>\n",
              "    </tr>\n",
              "    <tr>\n",
              "      <th>min</th>\n",
              "      <td>58.080040</td>\n",
              "      <td>374.180000</td>\n",
              "      <td>0.224000</td>\n",
              "      <td>247.080000</td>\n",
              "    </tr>\n",
              "    <tr>\n",
              "      <th>25%</th>\n",
              "      <td>102.165720</td>\n",
              "      <td>569.000000</td>\n",
              "      <td>0.341000</td>\n",
              "      <td>403.000000</td>\n",
              "    </tr>\n",
              "    <tr>\n",
              "      <th>50%</th>\n",
              "      <td>134.134998</td>\n",
              "      <td>631.000000</td>\n",
              "      <td>0.508000</td>\n",
              "      <td>436.225000</td>\n",
              "    </tr>\n",
              "    <tr>\n",
              "      <th>75%</th>\n",
              "      <td>162.274920</td>\n",
              "      <td>697.150000</td>\n",
              "      <td>0.709250</td>\n",
              "      <td>486.237500</td>\n",
              "    </tr>\n",
              "    <tr>\n",
              "      <th>max</th>\n",
              "      <td>547.682640</td>\n",
              "      <td>992.100000</td>\n",
              "      <td>0.844000</td>\n",
              "      <td>693.150000</td>\n",
              "    </tr>\n",
              "  </tbody>\n",
              "</table>\n",
              "</div>\n",
              "    <div class=\"colab-df-buttons\">\n",
              "\n",
              "  <div class=\"colab-df-container\">\n",
              "    <button class=\"colab-df-convert\" onclick=\"convertToInteractive('df-8ae592f1-acba-426f-99f6-b7ca0beee609')\"\n",
              "            title=\"Convert this dataframe to an interactive table.\"\n",
              "            style=\"display:none;\">\n",
              "\n",
              "  <svg xmlns=\"http://www.w3.org/2000/svg\" height=\"24px\" viewBox=\"0 -960 960 960\">\n",
              "    <path d=\"M120-120v-720h720v720H120Zm60-500h600v-160H180v160Zm220 220h160v-160H400v160Zm0 220h160v-160H400v160ZM180-400h160v-160H180v160Zm440 0h160v-160H620v160ZM180-180h160v-160H180v160Zm440 0h160v-160H620v160Z\"/>\n",
              "  </svg>\n",
              "    </button>\n",
              "\n",
              "  <style>\n",
              "    .colab-df-container {\n",
              "      display:flex;\n",
              "      gap: 12px;\n",
              "    }\n",
              "\n",
              "    .colab-df-convert {\n",
              "      background-color: #E8F0FE;\n",
              "      border: none;\n",
              "      border-radius: 50%;\n",
              "      cursor: pointer;\n",
              "      display: none;\n",
              "      fill: #1967D2;\n",
              "      height: 32px;\n",
              "      padding: 0 0 0 0;\n",
              "      width: 32px;\n",
              "    }\n",
              "\n",
              "    .colab-df-convert:hover {\n",
              "      background-color: #E2EBFA;\n",
              "      box-shadow: 0px 1px 2px rgba(60, 64, 67, 0.3), 0px 1px 3px 1px rgba(60, 64, 67, 0.15);\n",
              "      fill: #174EA6;\n",
              "    }\n",
              "\n",
              "    .colab-df-buttons div {\n",
              "      margin-bottom: 4px;\n",
              "    }\n",
              "\n",
              "    [theme=dark] .colab-df-convert {\n",
              "      background-color: #3B4455;\n",
              "      fill: #D2E3FC;\n",
              "    }\n",
              "\n",
              "    [theme=dark] .colab-df-convert:hover {\n",
              "      background-color: #434B5C;\n",
              "      box-shadow: 0px 1px 3px 1px rgba(0, 0, 0, 0.15);\n",
              "      filter: drop-shadow(0px 1px 2px rgba(0, 0, 0, 0.3));\n",
              "      fill: #FFFFFF;\n",
              "    }\n",
              "  </style>\n",
              "\n",
              "    <script>\n",
              "      const buttonEl =\n",
              "        document.querySelector('#df-8ae592f1-acba-426f-99f6-b7ca0beee609 button.colab-df-convert');\n",
              "      buttonEl.style.display =\n",
              "        google.colab.kernel.accessAllowed ? 'block' : 'none';\n",
              "\n",
              "      async function convertToInteractive(key) {\n",
              "        const element = document.querySelector('#df-8ae592f1-acba-426f-99f6-b7ca0beee609');\n",
              "        const dataTable =\n",
              "          await google.colab.kernel.invokeFunction('convertToInteractive',\n",
              "                                                    [key], {});\n",
              "        if (!dataTable) return;\n",
              "\n",
              "        const docLinkHtml = 'Like what you see? Visit the ' +\n",
              "          '<a target=\"_blank\" href=https://colab.research.google.com/notebooks/data_table.ipynb>data table notebook</a>'\n",
              "          + ' to learn more about interactive tables.';\n",
              "        element.innerHTML = '';\n",
              "        dataTable['output_type'] = 'display_data';\n",
              "        await google.colab.output.renderOutput(dataTable, element);\n",
              "        const docLink = document.createElement('div');\n",
              "        docLink.innerHTML = docLinkHtml;\n",
              "        element.appendChild(docLink);\n",
              "      }\n",
              "    </script>\n",
              "  </div>\n",
              "\n",
              "\n",
              "<div id=\"df-88d75383-730b-4512-ac79-50d18da570ea\">\n",
              "  <button class=\"colab-df-quickchart\" onclick=\"quickchart('df-88d75383-730b-4512-ac79-50d18da570ea')\"\n",
              "            title=\"Suggest charts\"\n",
              "            style=\"display:none;\">\n",
              "\n",
              "<svg xmlns=\"http://www.w3.org/2000/svg\" height=\"24px\"viewBox=\"0 0 24 24\"\n",
              "     width=\"24px\">\n",
              "    <g>\n",
              "        <path d=\"M19 3H5c-1.1 0-2 .9-2 2v14c0 1.1.9 2 2 2h14c1.1 0 2-.9 2-2V5c0-1.1-.9-2-2-2zM9 17H7v-7h2v7zm4 0h-2V7h2v10zm4 0h-2v-4h2v4z\"/>\n",
              "    </g>\n",
              "</svg>\n",
              "  </button>\n",
              "\n",
              "<style>\n",
              "  .colab-df-quickchart {\n",
              "      --bg-color: #E8F0FE;\n",
              "      --fill-color: #1967D2;\n",
              "      --hover-bg-color: #E2EBFA;\n",
              "      --hover-fill-color: #174EA6;\n",
              "      --disabled-fill-color: #AAA;\n",
              "      --disabled-bg-color: #DDD;\n",
              "  }\n",
              "\n",
              "  [theme=dark] .colab-df-quickchart {\n",
              "      --bg-color: #3B4455;\n",
              "      --fill-color: #D2E3FC;\n",
              "      --hover-bg-color: #434B5C;\n",
              "      --hover-fill-color: #FFFFFF;\n",
              "      --disabled-bg-color: #3B4455;\n",
              "      --disabled-fill-color: #666;\n",
              "  }\n",
              "\n",
              "  .colab-df-quickchart {\n",
              "    background-color: var(--bg-color);\n",
              "    border: none;\n",
              "    border-radius: 50%;\n",
              "    cursor: pointer;\n",
              "    display: none;\n",
              "    fill: var(--fill-color);\n",
              "    height: 32px;\n",
              "    padding: 0;\n",
              "    width: 32px;\n",
              "  }\n",
              "\n",
              "  .colab-df-quickchart:hover {\n",
              "    background-color: var(--hover-bg-color);\n",
              "    box-shadow: 0 1px 2px rgba(60, 64, 67, 0.3), 0 1px 3px 1px rgba(60, 64, 67, 0.15);\n",
              "    fill: var(--button-hover-fill-color);\n",
              "  }\n",
              "\n",
              "  .colab-df-quickchart-complete:disabled,\n",
              "  .colab-df-quickchart-complete:disabled:hover {\n",
              "    background-color: var(--disabled-bg-color);\n",
              "    fill: var(--disabled-fill-color);\n",
              "    box-shadow: none;\n",
              "  }\n",
              "\n",
              "  .colab-df-spinner {\n",
              "    border: 2px solid var(--fill-color);\n",
              "    border-color: transparent;\n",
              "    border-bottom-color: var(--fill-color);\n",
              "    animation:\n",
              "      spin 1s steps(1) infinite;\n",
              "  }\n",
              "\n",
              "  @keyframes spin {\n",
              "    0% {\n",
              "      border-color: transparent;\n",
              "      border-bottom-color: var(--fill-color);\n",
              "      border-left-color: var(--fill-color);\n",
              "    }\n",
              "    20% {\n",
              "      border-color: transparent;\n",
              "      border-left-color: var(--fill-color);\n",
              "      border-top-color: var(--fill-color);\n",
              "    }\n",
              "    30% {\n",
              "      border-color: transparent;\n",
              "      border-left-color: var(--fill-color);\n",
              "      border-top-color: var(--fill-color);\n",
              "      border-right-color: var(--fill-color);\n",
              "    }\n",
              "    40% {\n",
              "      border-color: transparent;\n",
              "      border-right-color: var(--fill-color);\n",
              "      border-top-color: var(--fill-color);\n",
              "    }\n",
              "    60% {\n",
              "      border-color: transparent;\n",
              "      border-right-color: var(--fill-color);\n",
              "    }\n",
              "    80% {\n",
              "      border-color: transparent;\n",
              "      border-right-color: var(--fill-color);\n",
              "      border-bottom-color: var(--fill-color);\n",
              "    }\n",
              "    90% {\n",
              "      border-color: transparent;\n",
              "      border-bottom-color: var(--fill-color);\n",
              "    }\n",
              "  }\n",
              "</style>\n",
              "\n",
              "  <script>\n",
              "    async function quickchart(key) {\n",
              "      const quickchartButtonEl =\n",
              "        document.querySelector('#' + key + ' button');\n",
              "      quickchartButtonEl.disabled = true;  // To prevent multiple clicks.\n",
              "      quickchartButtonEl.classList.add('colab-df-spinner');\n",
              "      try {\n",
              "        const charts = await google.colab.kernel.invokeFunction(\n",
              "            'suggestCharts', [key], {});\n",
              "      } catch (error) {\n",
              "        console.error('Error during call to suggestCharts:', error);\n",
              "      }\n",
              "      quickchartButtonEl.classList.remove('colab-df-spinner');\n",
              "      quickchartButtonEl.classList.add('colab-df-quickchart-complete');\n",
              "    }\n",
              "    (() => {\n",
              "      let quickchartButtonEl =\n",
              "        document.querySelector('#df-88d75383-730b-4512-ac79-50d18da570ea button');\n",
              "      quickchartButtonEl.style.display =\n",
              "        google.colab.kernel.accessAllowed ? 'block' : 'none';\n",
              "    })();\n",
              "  </script>\n",
              "</div>\n",
              "\n",
              "    </div>\n",
              "  </div>\n"
            ],
            "application/vnd.google.colaboratory.intrinsic+json": {
              "type": "dataframe",
              "summary": "{\n  \"name\": \"df\",\n  \"rows\": 8,\n  \"fields\": [\n    {\n      \"column\": \"molweight\",\n      \"properties\": {\n        \"dtype\": \"number\",\n        \"std\": 156.76129019112835,\n        \"min\": 58.08004,\n        \"max\": 547.68264,\n        \"num_unique_values\": 8,\n        \"samples\": [\n          157.13426224,\n          134.134998,\n          100.0\n        ],\n        \"semantic_type\": \"\",\n        \"description\": \"\"\n      }\n    },\n    {\n      \"column\": \"critical temperature (K)\",\n      \"properties\": {\n        \"dtype\": \"number\",\n        \"std\": 302.6423360603462,\n        \"min\": 100.0,\n        \"max\": 992.1,\n        \"num_unique_values\": 8,\n        \"samples\": [\n          634.884,\n          631.0,\n          100.0\n        ],\n        \"semantic_type\": \"\",\n        \"description\": \"\"\n      }\n    },\n    {\n      \"column\": \"acentric factor\",\n      \"properties\": {\n        \"dtype\": \"number\",\n        \"std\": 35.18783877882323,\n        \"min\": 0.1828788029424311,\n        \"max\": 100.0,\n        \"num_unique_values\": 8,\n        \"samples\": [\n          0.5216999999999999,\n          0.508,\n          100.0\n        ],\n        \"semantic_type\": \"\",\n        \"description\": \"\"\n      }\n    },\n    {\n      \"column\": \"boiling point (K) \",\n      \"properties\": {\n        \"dtype\": \"number\",\n        \"std\": 204.01036395175308,\n        \"min\": 97.89180775512145,\n        \"max\": 693.15,\n        \"num_unique_values\": 8,\n        \"samples\": [\n          448.5137,\n          436.225,\n          100.0\n        ],\n        \"semantic_type\": \"\",\n        \"description\": \"\"\n      }\n    }\n  ]\n}"
            }
          },
          "metadata": {},
          "execution_count": 3
        }
      ]
    },
    {
      "cell_type": "markdown",
      "source": [
        "We can quickly look at the data to see that there are 100 records in the file, the molecular weight varies from 58 to 547 spanning one order of magnitude, while the range of critical temperatures is 374-992 K. On the other hand, the acentric factor varies from 0.224 to 0.844. As can be gleaned from the data, the order of magnitude is similar for the molecular weight and critical temperature while it's two orders of magnitude lower for the acentric factor. Tree-based methods do not require scaling of descriptors; however, if we were using models such as linear regression or neural network, it would be a good idea to scale the descriptors.\n",
        "\n",
        "## Selection of descriptors and lable\n",
        "We will use the critical temperature, molecular weight, and acentric factor as the input features while the boiling point will serve as the label. We store the features in *x_features* and the label as *y*"
      ],
      "metadata": {
        "id": "W9XXuBN0nLpF"
      }
    },
    {
      "cell_type": "code",
      "source": [
        "# Form the feature vector and the output vector\n",
        "x_features = df[['molweight','critical temperature (K)', 'acentric factor']]\n",
        "y = df['boiling point (K) ']\n",
        "\n"
      ],
      "metadata": {
        "id": "lDma5t-NdtIJ"
      },
      "execution_count": 6,
      "outputs": []
    },
    {
      "cell_type": "markdown",
      "source": [
        "## Test and Train split\n",
        "We now split the data in the training set and test set. If you would like to study the influence of the relative proportions of splitting the data adjust the variable *train_size*. *random_state* is fixed at an arbitrary value so that the results are reproducible. Feel free to vary this to see how the output is affected.\n",
        "\n",
        "*x_train* : features for the training data set\n",
        "\n",
        "*x_test* : features for the test data set\n",
        "\n",
        "*y_train*: labels for the training data set\n",
        "\n",
        "*y_test*: lables for the test data set"
      ],
      "metadata": {
        "id": "W4QItzYDot0x"
      }
    },
    {
      "cell_type": "code",
      "source": [
        "# let's start building the model by splitting the data into a train and test data set\n",
        "from sklearn.model_selection import train_test_split\n",
        "x_train, x_test, y_train, y_test = train_test_split(x_features, y, train_size=0.8,random_state=100)\n"
      ],
      "metadata": {
        "id": "zcErpF3LeXK9"
      },
      "execution_count": 7,
      "outputs": []
    },
    {
      "cell_type": "markdown",
      "source": [
        "## Building a decision tree model\n",
        "\n",
        "We use Scikit-learn library to build a decision tree model, which is stored in *bp_model*. Note that the model *tree_DecisionTreeRegreesor* contains several arguments which can be optimized through cross-validation but we will not attempt to do so in this exercise. For a complete documentation, refer to the link: [Decision Tree Regressor](https://scikit-learn.org/stable/modules/generated/sklearn.tree.DecisionTreeRegressor.html#sklearn.tree.DecisionTreeRegressor)\n",
        "\n",
        "The model is built using the training data set and is used to predict the labels for the training data set, which we will compare with the true labels. Parity plot is a good way to assess how good the model is. Similarly, we make predictions on the test data set."
      ],
      "metadata": {
        "id": "DeIwi9zJpszZ"
      }
    },
    {
      "cell_type": "code",
      "source": [
        "# start building a decision tree model\n",
        "from sklearn import tree\n",
        "import matplotlib.pyplot as plt\n",
        "# vary the selected parameter\n",
        "bp_model = tree.DecisionTreeRegressor(min_samples_leaf=5)\n",
        "# fit the model\n",
        "bp_model_fit = bp_model.fit(x_train,y_train)\n",
        "\n",
        "# predict labels for the training data set\n",
        "y_predict = bp_model_fit.predict(x_train)\n",
        "\n",
        "# predict labels for the test data set\n",
        "y_test_predict = bp_model_fit.predict(x_test)\n",
        "\n",
        "\n"
      ],
      "metadata": {
        "id": "il0VwhSNertd"
      },
      "execution_count": 8,
      "outputs": []
    },
    {
      "cell_type": "markdown",
      "source": [
        "## Parity Plots\n",
        "\n",
        "Let's plot the predicted labels for the training data set against the true labels."
      ],
      "metadata": {
        "id": "W4419g9qrA-j"
      }
    },
    {
      "cell_type": "code",
      "source": [
        "# parity plot for training data set\n",
        "plt.scatter(y_train,y_predict)\n",
        "plt.plot(y_train,y_train)\n",
        "plt.xlabel('Boiling point (training) (K)')\n",
        "plt.ylabel('Boiling point (predictions) (K)')\n",
        "plt.title('Training Data Set')"
      ],
      "metadata": {
        "id": "tdI7Vw0EeYaA",
        "colab": {
          "base_uri": "https://localhost:8080/",
          "height": 490
        },
        "outputId": "d4e56a90-4488-43d2-bdaa-ed7eb843900f"
      },
      "execution_count": 9,
      "outputs": [
        {
          "output_type": "execute_result",
          "data": {
            "text/plain": [
              "Text(0.5, 1.0, 'Training Data Set')"
            ]
          },
          "metadata": {},
          "execution_count": 9
        },
        {
          "output_type": "display_data",
          "data": {
            "text/plain": [
              "<Figure size 640x480 with 1 Axes>"
            ],
            "image/png": "[encoded data removed]"
          },
          "metadata": {}
        }
      ]
    },
    {
      "cell_type": "markdown",
      "source": [
        "As you can see the model does a pretty good job at capturing the data. One interesting this is that the model predicts the same output for a bunch of points. Look for collections of points that are on the same horizontal line, which implies that This behavior is due to the fact that we set the *min_samples_leaf* to 5. Play with this argument to see how it affects the behavior of the parity plot. We almost never use a single decision tree to make predictions, random forest which averages outputs from a large number of uncorrelated trees is almost always the preferred choice."
      ],
      "metadata": {
        "id": "uDjjRkSprRGh"
      }
    },
    {
      "cell_type": "code",
      "source": [
        "this_score = bp_model.score(x_train,y_train)\n",
        "print(\"The score of the model %8.3f \"  % (this_score))"
      ],
      "metadata": {
        "id": "isQ-eKEJfBr8",
        "colab": {
          "base_uri": "https://localhost:8080/"
        },
        "outputId": "7d89641b-3b01-429b-8ece-461bf3c8b0ef"
      },
      "execution_count": 10,
      "outputs": [
        {
          "output_type": "stream",
          "name": "stdout",
          "text": [
            "The score of the model    0.959 \n"
          ]
        }
      ]
    },
    {
      "cell_type": "code",
      "source": [
        "# parity plot for test data set\n",
        "plt.scatter(y_test,y_test_predict)\n",
        "plt.plot(y_test,y_test)\n",
        "plt.xlabel('Boiling point (K)')\n",
        "plt.ylabel('Boiling point (predictions) (K)')\n",
        "plt.title('Test Data Set')"
      ],
      "metadata": {
        "id": "0hnKsJYif6x7",
        "colab": {
          "base_uri": "https://localhost:8080/",
          "height": 490
        },
        "outputId": "5398cf75-1c13-4295-a1b5-806a7ae46710"
      },
      "execution_count": 11,
      "outputs": [
        {
          "output_type": "execute_result",
          "data": {
            "text/plain": [
              "Text(0.5, 1.0, 'Test Data Set')"
            ]
          },
          "metadata": {},
          "execution_count": 11
        },
        {
          "output_type": "display_data",
          "data": {
            "text/plain": [
              "<Figure size 640x480 with 1 Axes>"
            ],
            "image/png": "[encoded data removed]"
          },
          "metadata": {}
        }
      ]
    },
    {
      "cell_type": "code",
      "source": [
        "# we want to visualize the tree\n",
        "\n",
        "import graphviz\n",
        "dot_data = tree.export_graphviz(bp_model_fit,out_file=None)\n",
        "graph = graphviz.Source(dot_data)\n",
        "graph"
      ],
      "metadata": {
        "id": "lVi_9EwhfXjJ",
        "colab": {
          "base_uri": "https://localhost:8080/",
          "height": 956
        },
        "outputId": "0b516f0c-1de5-4857-d395-3e18af55aa1d"
      },
      "execution_count": 12,
      "outputs": [
        {
          "output_type": "execute_result",
          "data": {
            "image/svg+xml": "<?xml version=\"1.0\" encoding=\"UTF-8\" standalone=\"no\"?>\n<!DOCTYPE svg PUBLIC \"-//W3C//DTD SVG 1.1//EN\"\n \"http://www.w3.org/Graphics/SVG/1.1/DTD/svg11.dtd\">\n<!-- Generated by graphviz version 2.43.0 (0)\n -->\n<!-- Title: Tree Pages: 1 -->\n<svg width=\"1092pt\" height=\"685pt\"\n viewBox=\"0.00 0.00 1092.00 685.00\" xmlns=\"http://www.w3.org/2000/svg\" xmlns:xlink=\"http://www.w3.org/1999/xlink\">\n<g id=\"graph0\" class=\"graph\" transform=\"scale(1 1) rotate(0) translate(4 681)\">\n<title>Tree</title>\n<polygon fill=\"white\" stroke=\"transparent\" points=\"-4,4 -4,-681 1088,-681 1088,4 -4,4\"/>\n<!-- 0 -->\n<g id=\"node1\" class=\"node\">\n<title>0</title>\n<polygon fill=\"none\" stroke=\"black\" points=\"730.5,-677 549.5,-677 549.5,-609 730.5,-609 730.5,-677\"/>\n<text text-anchor=\"middle\" x=\"640\" y=\"-661.8\" font-family=\"Helvetica,sans-Serif\" font-size=\"14.00\">x[1] &lt;= 722.5</text>\n<text text-anchor=\"middle\" x=\"640\" y=\"-646.8\" font-family=\"Helvetica,sans-Serif\" font-size=\"14.00\">squared_error = 10062.628</text>\n<text text-anchor=\"middle\" x=\"640\" y=\"-631.8\" font-family=\"Helvetica,sans-Serif\" font-size=\"14.00\">samples = 80</text>\n<text text-anchor=\"middle\" x=\"640\" y=\"-616.8\" font-family=\"Helvetica,sans-Serif\" font-size=\"14.00\">value = 447.339</text>\n</g>\n<!-- 1 -->\n<g id=\"node2\" class=\"node\">\n<title>1</title>\n<polygon fill=\"none\" stroke=\"black\" points=\"629,-573 463,-573 463,-505 629,-505 629,-573\"/>\n<text text-anchor=\"middle\" x=\"546\" y=\"-557.8\" font-family=\"Helvetica,sans-Serif\" font-size=\"14.00\">x[1] &lt;= 557.17</text>\n<text text-anchor=\"middle\" x=\"546\" y=\"-542.8\" font-family=\"Helvetica,sans-Serif\" font-size=\"14.00\">squared_error = 4414.15</text>\n<text text-anchor=\"middle\" x=\"546\" y=\"-527.8\" font-family=\"Helvetica,sans-Serif\" font-size=\"14.00\">samples = 66</text>\n<text text-anchor=\"middle\" x=\"546\" y=\"-512.8\" font-family=\"Helvetica,sans-Serif\" font-size=\"14.00\">value = 413.02</text>\n</g>\n<!-- 0&#45;&gt;1 -->\n<g id=\"edge1\" class=\"edge\">\n<title>0&#45;&gt;1</title>\n<path fill=\"none\" stroke=\"black\" d=\"M609.48,-608.88C601.19,-599.89 592.12,-590.04 583.49,-580.68\"/>\n<polygon fill=\"black\" stroke=\"black\" points=\"586.04,-578.28 576.69,-573.3 580.89,-583.02 586.04,-578.28\"/>\n<text text-anchor=\"middle\" x=\"575.67\" y=\"-594.58\" font-family=\"Helvetica,sans-Serif\" font-size=\"14.00\">True</text>\n</g>\n<!-- 20 -->\n<g id=\"node21\" class=\"node\">\n<title>20</title>\n<polygon fill=\"none\" stroke=\"black\" points=\"820.5,-573 647.5,-573 647.5,-505 820.5,-505 820.5,-573\"/>\n<text text-anchor=\"middle\" x=\"734\" y=\"-557.8\" font-family=\"Helvetica,sans-Serif\" font-size=\"14.00\">x[1] &lt;= 820.065</text>\n<text text-anchor=\"middle\" x=\"734\" y=\"-542.8\" font-family=\"Helvetica,sans-Serif\" font-size=\"14.00\">squared_error = 4963.536</text>\n<text text-anchor=\"middle\" x=\"734\" y=\"-527.8\" font-family=\"Helvetica,sans-Serif\" font-size=\"14.00\">samples = 14</text>\n<text text-anchor=\"middle\" x=\"734\" y=\"-512.8\" font-family=\"Helvetica,sans-Serif\" font-size=\"14.00\">value = 609.126</text>\n</g>\n<!-- 0&#45;&gt;20 -->\n<g id=\"edge20\" class=\"edge\">\n<title>0&#45;&gt;20</title>\n<path fill=\"none\" stroke=\"black\" d=\"M670.52,-608.88C678.81,-599.89 687.88,-590.04 696.51,-580.68\"/>\n<polygon fill=\"black\" stroke=\"black\" points=\"699.11,-583.02 703.31,-573.3 693.96,-578.28 699.11,-583.02\"/>\n<text text-anchor=\"middle\" x=\"704.33\" y=\"-594.58\" font-family=\"Helvetica,sans-Serif\" font-size=\"14.00\">False</text>\n</g>\n<!-- 2 -->\n<g id=\"node3\" class=\"node\">\n<title>2</title>\n<polygon fill=\"none\" stroke=\"black\" points=\"441.5,-469 268.5,-469 268.5,-401 441.5,-401 441.5,-469\"/>\n<text text-anchor=\"middle\" x=\"355\" y=\"-453.8\" font-family=\"Helvetica,sans-Serif\" font-size=\"14.00\">x[1] &lt;= 502.315</text>\n<text text-anchor=\"middle\" x=\"355\" y=\"-438.8\" font-family=\"Helvetica,sans-Serif\" font-size=\"14.00\">squared_error = 2018.709</text>\n<text text-anchor=\"middle\" x=\"355\" y=\"-423.8\" font-family=\"Helvetica,sans-Serif\" font-size=\"14.00\">samples = 15</text>\n<text text-anchor=\"middle\" x=\"355\" y=\"-408.8\" font-family=\"Helvetica,sans-Serif\" font-size=\"14.00\">value = 311.671</text>\n</g>\n<!-- 1&#45;&gt;2 -->\n<g id=\"edge2\" class=\"edge\">\n<title>1&#45;&gt;2</title>\n<path fill=\"none\" stroke=\"black\" d=\"M483.99,-504.88C465.46,-494.99 445.01,-484.07 425.96,-473.9\"/>\n<polygon fill=\"black\" stroke=\"black\" points=\"427.5,-470.75 417.03,-469.12 424.2,-476.92 427.5,-470.75\"/>\n</g>\n<!-- 5 -->\n<g id=\"node6\" class=\"node\">\n<title>5</title>\n<polygon fill=\"none\" stroke=\"black\" points=\"632.5,-469 459.5,-469 459.5,-401 632.5,-401 632.5,-469\"/>\n<text text-anchor=\"middle\" x=\"546\" y=\"-453.8\" font-family=\"Helvetica,sans-Serif\" font-size=\"14.00\">x[1] &lt;= 651.795</text>\n<text text-anchor=\"middle\" x=\"546\" y=\"-438.8\" font-family=\"Helvetica,sans-Serif\" font-size=\"14.00\">squared_error = 1209.104</text>\n<text text-anchor=\"middle\" x=\"546\" y=\"-423.8\" font-family=\"Helvetica,sans-Serif\" font-size=\"14.00\">samples = 51</text>\n<text text-anchor=\"middle\" x=\"546\" y=\"-408.8\" font-family=\"Helvetica,sans-Serif\" font-size=\"14.00\">value = 442.828</text>\n</g>\n<!-- 1&#45;&gt;5 -->\n<g id=\"edge5\" class=\"edge\">\n<title>1&#45;&gt;5</title>\n<path fill=\"none\" stroke=\"black\" d=\"M546,-504.88C546,-496.78 546,-487.98 546,-479.47\"/>\n<polygon fill=\"black\" stroke=\"black\" points=\"549.5,-479.3 546,-469.3 542.5,-479.3 549.5,-479.3\"/>\n</g>\n<!-- 3 -->\n<g id=\"node4\" class=\"node\">\n<title>3</title>\n<polygon fill=\"none\" stroke=\"black\" points=\"257,-357.5 91,-357.5 91,-304.5 257,-304.5 257,-357.5\"/>\n<text text-anchor=\"middle\" x=\"174\" y=\"-342.3\" font-family=\"Helvetica,sans-Serif\" font-size=\"14.00\">squared_error = 468.075</text>\n<text text-anchor=\"middle\" x=\"174\" y=\"-327.3\" font-family=\"Helvetica,sans-Serif\" font-size=\"14.00\">samples = 9</text>\n<text text-anchor=\"middle\" x=\"174\" y=\"-312.3\" font-family=\"Helvetica,sans-Serif\" font-size=\"14.00\">value = 278.444</text>\n</g>\n<!-- 2&#45;&gt;3 -->\n<g id=\"edge3\" class=\"edge\">\n<title>2&#45;&gt;3</title>\n<path fill=\"none\" stroke=\"black\" d=\"M296.23,-400.88C274.38,-388.57 249.69,-374.65 228.26,-362.57\"/>\n<polygon fill=\"black\" stroke=\"black\" points=\"229.72,-359.38 219.29,-357.52 226.28,-365.48 229.72,-359.38\"/>\n</g>\n<!-- 4 -->\n<g id=\"node5\" class=\"node\">\n<title>4</title>\n<polygon fill=\"none\" stroke=\"black\" points=\"441,-357.5 275,-357.5 275,-304.5 441,-304.5 441,-357.5\"/>\n<text text-anchor=\"middle\" x=\"358\" y=\"-342.3\" font-family=\"Helvetica,sans-Serif\" font-size=\"14.00\">squared_error = 204.563</text>\n<text text-anchor=\"middle\" x=\"358\" y=\"-327.3\" font-family=\"Helvetica,sans-Serif\" font-size=\"14.00\">samples = 6</text>\n<text text-anchor=\"middle\" x=\"358\" y=\"-312.3\" font-family=\"Helvetica,sans-Serif\" font-size=\"14.00\">value = 361.512</text>\n</g>\n<!-- 2&#45;&gt;4 -->\n<g id=\"edge4\" class=\"edge\">\n<title>2&#45;&gt;4</title>\n<path fill=\"none\" stroke=\"black\" d=\"M355.97,-400.88C356.29,-390.22 356.64,-378.35 356.96,-367.52\"/>\n<polygon fill=\"black\" stroke=\"black\" points=\"360.45,-367.62 357.25,-357.52 353.46,-367.41 360.45,-367.62\"/>\n</g>\n<!-- 6 -->\n<g id=\"node7\" class=\"node\">\n<title>6</title>\n<polygon fill=\"none\" stroke=\"black\" points=\"622,-365 464,-365 464,-297 622,-297 622,-365\"/>\n<text text-anchor=\"middle\" x=\"543\" y=\"-349.8\" font-family=\"Helvetica,sans-Serif\" font-size=\"14.00\">x[2] &lt;= 0.71</text>\n<text text-anchor=\"middle\" x=\"543\" y=\"-334.8\" font-family=\"Helvetica,sans-Serif\" font-size=\"14.00\">squared_error = 553.58</text>\n<text text-anchor=\"middle\" x=\"543\" y=\"-319.8\" font-family=\"Helvetica,sans-Serif\" font-size=\"14.00\">samples = 34</text>\n<text text-anchor=\"middle\" x=\"543\" y=\"-304.8\" font-family=\"Helvetica,sans-Serif\" font-size=\"14.00\">value = 424.04</text>\n</g>\n<!-- 5&#45;&gt;6 -->\n<g id=\"edge6\" class=\"edge\">\n<title>5&#45;&gt;6</title>\n<path fill=\"none\" stroke=\"black\" d=\"M545.03,-400.88C544.79,-392.78 544.53,-383.98 544.28,-375.47\"/>\n<polygon fill=\"black\" stroke=\"black\" points=\"547.77,-375.19 543.98,-365.3 540.77,-375.4 547.77,-375.19\"/>\n</g>\n<!-- 15 -->\n<g id=\"node16\" class=\"node\">\n<title>15</title>\n<polygon fill=\"none\" stroke=\"black\" points=\"810,-365 644,-365 644,-297 810,-297 810,-365\"/>\n<text text-anchor=\"middle\" x=\"727\" y=\"-349.8\" font-family=\"Helvetica,sans-Serif\" font-size=\"14.00\">x[0] &lt;= 147.251</text>\n<text text-anchor=\"middle\" x=\"727\" y=\"-334.8\" font-family=\"Helvetica,sans-Serif\" font-size=\"14.00\">squared_error = 402.122</text>\n<text text-anchor=\"middle\" x=\"727\" y=\"-319.8\" font-family=\"Helvetica,sans-Serif\" font-size=\"14.00\">samples = 17</text>\n<text text-anchor=\"middle\" x=\"727\" y=\"-304.8\" font-family=\"Helvetica,sans-Serif\" font-size=\"14.00\">value = 480.405</text>\n</g>\n<!-- 5&#45;&gt;15 -->\n<g id=\"edge15\" class=\"edge\">\n<title>5&#45;&gt;15</title>\n<path fill=\"none\" stroke=\"black\" d=\"M604.77,-400.88C622.08,-391.12 641.17,-380.37 659.02,-370.31\"/>\n<polygon fill=\"black\" stroke=\"black\" points=\"661.23,-373.08 668.22,-365.12 657.79,-366.99 661.23,-373.08\"/>\n</g>\n<!-- 7 -->\n<g id=\"node8\" class=\"node\">\n<title>7</title>\n<polygon fill=\"none\" stroke=\"black\" points=\"442,-261 276,-261 276,-193 442,-193 442,-261\"/>\n<text text-anchor=\"middle\" x=\"359\" y=\"-245.8\" font-family=\"Helvetica,sans-Serif\" font-size=\"14.00\">x[1] &lt;= 600.025</text>\n<text text-anchor=\"middle\" x=\"359\" y=\"-230.8\" font-family=\"Helvetica,sans-Serif\" font-size=\"14.00\">squared_error = 316.146</text>\n<text text-anchor=\"middle\" x=\"359\" y=\"-215.8\" font-family=\"Helvetica,sans-Serif\" font-size=\"14.00\">samples = 25</text>\n<text text-anchor=\"middle\" x=\"359\" y=\"-200.8\" font-family=\"Helvetica,sans-Serif\" font-size=\"14.00\">value = 416.932</text>\n</g>\n<!-- 6&#45;&gt;7 -->\n<g id=\"edge7\" class=\"edge\">\n<title>6&#45;&gt;7</title>\n<path fill=\"none\" stroke=\"black\" d=\"M483.26,-296.88C465.5,-287.04 445.89,-276.17 427.61,-266.03\"/>\n<polygon fill=\"black\" stroke=\"black\" points=\"429.2,-262.91 418.75,-261.12 425.8,-269.03 429.2,-262.91\"/>\n</g>\n<!-- 14 -->\n<g id=\"node15\" class=\"node\">\n<title>14</title>\n<polygon fill=\"none\" stroke=\"black\" points=\"626,-253.5 460,-253.5 460,-200.5 626,-200.5 626,-253.5\"/>\n<text text-anchor=\"middle\" x=\"543\" y=\"-238.3\" font-family=\"Helvetica,sans-Serif\" font-size=\"14.00\">squared_error = 682.992</text>\n<text text-anchor=\"middle\" x=\"543\" y=\"-223.3\" font-family=\"Helvetica,sans-Serif\" font-size=\"14.00\">samples = 9</text>\n<text text-anchor=\"middle\" x=\"543\" y=\"-208.3\" font-family=\"Helvetica,sans-Serif\" font-size=\"14.00\">value = 443.783</text>\n</g>\n<!-- 6&#45;&gt;14 -->\n<g id=\"edge14\" class=\"edge\">\n<title>6&#45;&gt;14</title>\n<path fill=\"none\" stroke=\"black\" d=\"M543,-296.88C543,-286.33 543,-274.6 543,-263.85\"/>\n<polygon fill=\"black\" stroke=\"black\" points=\"546.5,-263.52 543,-253.52 539.5,-263.52 546.5,-263.52\"/>\n</g>\n<!-- 8 -->\n<g id=\"node9\" class=\"node\">\n<title>8</title>\n<polygon fill=\"none\" stroke=\"black\" points=\"350,-157 184,-157 184,-89 350,-89 350,-157\"/>\n<text text-anchor=\"middle\" x=\"267\" y=\"-141.8\" font-family=\"Helvetica,sans-Serif\" font-size=\"14.00\">x[0] &lt;= 106.154</text>\n<text text-anchor=\"middle\" x=\"267\" y=\"-126.8\" font-family=\"Helvetica,sans-Serif\" font-size=\"14.00\">squared_error = 222.432</text>\n<text text-anchor=\"middle\" x=\"267\" y=\"-111.8\" font-family=\"Helvetica,sans-Serif\" font-size=\"14.00\">samples = 12</text>\n<text text-anchor=\"middle\" x=\"267\" y=\"-96.8\" font-family=\"Helvetica,sans-Serif\" font-size=\"14.00\">value = 405.958</text>\n</g>\n<!-- 7&#45;&gt;8 -->\n<g id=\"edge8\" class=\"edge\">\n<title>7&#45;&gt;8</title>\n<path fill=\"none\" stroke=\"black\" d=\"M329.13,-192.88C321.1,-183.98 312.31,-174.24 303.94,-164.96\"/>\n<polygon fill=\"black\" stroke=\"black\" points=\"306.33,-162.38 297.03,-157.3 301.13,-167.07 306.33,-162.38\"/>\n</g>\n<!-- 11 -->\n<g id=\"node12\" class=\"node\">\n<title>11</title>\n<polygon fill=\"none\" stroke=\"black\" points=\"534,-157 368,-157 368,-89 534,-89 534,-157\"/>\n<text text-anchor=\"middle\" x=\"451\" y=\"-141.8\" font-family=\"Helvetica,sans-Serif\" font-size=\"14.00\">x[2] &lt;= 0.459</text>\n<text text-anchor=\"middle\" x=\"451\" y=\"-126.8\" font-family=\"Helvetica,sans-Serif\" font-size=\"14.00\">squared_error = 188.838</text>\n<text text-anchor=\"middle\" x=\"451\" y=\"-111.8\" font-family=\"Helvetica,sans-Serif\" font-size=\"14.00\">samples = 13</text>\n<text text-anchor=\"middle\" x=\"451\" y=\"-96.8\" font-family=\"Helvetica,sans-Serif\" font-size=\"14.00\">value = 427.063</text>\n</g>\n<!-- 7&#45;&gt;11 -->\n<g id=\"edge11\" class=\"edge\">\n<title>7&#45;&gt;11</title>\n<path fill=\"none\" stroke=\"black\" d=\"M388.87,-192.88C396.9,-183.98 405.69,-174.24 414.06,-164.96\"/>\n<polygon fill=\"black\" stroke=\"black\" points=\"416.87,-167.07 420.97,-157.3 411.67,-162.38 416.87,-167.07\"/>\n</g>\n<!-- 9 -->\n<g id=\"node10\" class=\"node\">\n<title>9</title>\n<polygon fill=\"none\" stroke=\"black\" points=\"166,-53 0,-53 0,0 166,0 166,-53\"/>\n<text text-anchor=\"middle\" x=\"83\" y=\"-37.8\" font-family=\"Helvetica,sans-Serif\" font-size=\"14.00\">squared_error = 188.672</text>\n<text text-anchor=\"middle\" x=\"83\" y=\"-22.8\" font-family=\"Helvetica,sans-Serif\" font-size=\"14.00\">samples = 6</text>\n<text text-anchor=\"middle\" x=\"83\" y=\"-7.8\" font-family=\"Helvetica,sans-Serif\" font-size=\"14.00\">value = 398.057</text>\n</g>\n<!-- 8&#45;&gt;9 -->\n<g id=\"edge9\" class=\"edge\">\n<title>8&#45;&gt;9</title>\n<path fill=\"none\" stroke=\"black\" d=\"M202.65,-88.95C182.87,-78.79 161.22,-67.67 141.84,-57.72\"/>\n<polygon fill=\"black\" stroke=\"black\" points=\"143.31,-54.54 132.82,-53.09 140.12,-60.77 143.31,-54.54\"/>\n</g>\n<!-- 10 -->\n<g id=\"node11\" class=\"node\">\n<title>10</title>\n<polygon fill=\"none\" stroke=\"black\" points=\"350,-53 184,-53 184,0 350,0 350,-53\"/>\n<text text-anchor=\"middle\" x=\"267\" y=\"-37.8\" font-family=\"Helvetica,sans-Serif\" font-size=\"14.00\">squared_error = 131.345</text>\n<text text-anchor=\"middle\" x=\"267\" y=\"-22.8\" font-family=\"Helvetica,sans-Serif\" font-size=\"14.00\">samples = 6</text>\n<text text-anchor=\"middle\" x=\"267\" y=\"-7.8\" font-family=\"Helvetica,sans-Serif\" font-size=\"14.00\">value = 413.858</text>\n</g>\n<!-- 8&#45;&gt;10 -->\n<g id=\"edge10\" class=\"edge\">\n<title>8&#45;&gt;10</title>\n<path fill=\"none\" stroke=\"black\" d=\"M267,-88.95C267,-80.72 267,-71.85 267,-63.48\"/>\n<polygon fill=\"black\" stroke=\"black\" points=\"270.5,-63.24 267,-53.24 263.5,-63.24 270.5,-63.24\"/>\n</g>\n<!-- 12 -->\n<g id=\"node13\" class=\"node\">\n<title>12</title>\n<polygon fill=\"none\" stroke=\"black\" points=\"534,-53 368,-53 368,0 534,0 534,-53\"/>\n<text text-anchor=\"middle\" x=\"451\" y=\"-37.8\" font-family=\"Helvetica,sans-Serif\" font-size=\"14.00\">squared_error = 238.309</text>\n<text text-anchor=\"middle\" x=\"451\" y=\"-22.8\" font-family=\"Helvetica,sans-Serif\" font-size=\"14.00\">samples = 6</text>\n<text text-anchor=\"middle\" x=\"451\" y=\"-7.8\" font-family=\"Helvetica,sans-Serif\" font-size=\"14.00\">value = 422.1</text>\n</g>\n<!-- 11&#45;&gt;12 -->\n<g id=\"edge12\" class=\"edge\">\n<title>11&#45;&gt;12</title>\n<path fill=\"none\" stroke=\"black\" d=\"M451,-88.95C451,-80.72 451,-71.85 451,-63.48\"/>\n<polygon fill=\"black\" stroke=\"black\" points=\"454.5,-63.24 451,-53.24 447.5,-63.24 454.5,-63.24\"/>\n</g>\n<!-- 13 -->\n<g id=\"node14\" class=\"node\">\n<title>13</title>\n<polygon fill=\"none\" stroke=\"black\" points=\"718,-53 552,-53 552,0 718,0 718,-53\"/>\n<text text-anchor=\"middle\" x=\"635\" y=\"-37.8\" font-family=\"Helvetica,sans-Serif\" font-size=\"14.00\">squared_error = 107.223</text>\n<text text-anchor=\"middle\" x=\"635\" y=\"-22.8\" font-family=\"Helvetica,sans-Serif\" font-size=\"14.00\">samples = 7</text>\n<text text-anchor=\"middle\" x=\"635\" y=\"-7.8\" font-family=\"Helvetica,sans-Serif\" font-size=\"14.00\">value = 431.317</text>\n</g>\n<!-- 11&#45;&gt;13 -->\n<g id=\"edge13\" class=\"edge\">\n<title>11&#45;&gt;13</title>\n<path fill=\"none\" stroke=\"black\" d=\"M515.35,-88.95C535.13,-78.79 556.78,-67.67 576.16,-57.72\"/>\n<polygon fill=\"black\" stroke=\"black\" points=\"577.88,-60.77 585.18,-53.09 574.69,-54.54 577.88,-60.77\"/>\n</g>\n<!-- 16 -->\n<g id=\"node17\" class=\"node\">\n<title>16</title>\n<polygon fill=\"none\" stroke=\"black\" points=\"810,-253.5 644,-253.5 644,-200.5 810,-200.5 810,-253.5\"/>\n<text text-anchor=\"middle\" x=\"727\" y=\"-238.3\" font-family=\"Helvetica,sans-Serif\" font-size=\"14.00\">squared_error = 304.276</text>\n<text text-anchor=\"middle\" x=\"727\" y=\"-223.3\" font-family=\"Helvetica,sans-Serif\" font-size=\"14.00\">samples = 5</text>\n<text text-anchor=\"middle\" x=\"727\" y=\"-208.3\" font-family=\"Helvetica,sans-Serif\" font-size=\"14.00\">value = 458.412</text>\n</g>\n<!-- 15&#45;&gt;16 -->\n<g id=\"edge16\" class=\"edge\">\n<title>15&#45;&gt;16</title>\n<path fill=\"none\" stroke=\"black\" d=\"M727,-296.88C727,-286.33 727,-274.6 727,-263.85\"/>\n<polygon fill=\"black\" stroke=\"black\" points=\"730.5,-263.52 727,-253.52 723.5,-263.52 730.5,-263.52\"/>\n</g>\n<!-- 17 -->\n<g id=\"node18\" class=\"node\">\n<title>17</title>\n<polygon fill=\"none\" stroke=\"black\" points=\"994,-261 828,-261 828,-193 994,-193 994,-261\"/>\n<text text-anchor=\"middle\" x=\"911\" y=\"-245.8\" font-family=\"Helvetica,sans-Serif\" font-size=\"14.00\">x[2] &lt;= 0.495</text>\n<text text-anchor=\"middle\" x=\"911\" y=\"-230.8\" font-family=\"Helvetica,sans-Serif\" font-size=\"14.00\">squared_error = 157.371</text>\n<text text-anchor=\"middle\" x=\"911\" y=\"-215.8\" font-family=\"Helvetica,sans-Serif\" font-size=\"14.00\">samples = 12</text>\n<text text-anchor=\"middle\" x=\"911\" y=\"-200.8\" font-family=\"Helvetica,sans-Serif\" font-size=\"14.00\">value = 489.569</text>\n</g>\n<!-- 15&#45;&gt;17 -->\n<g id=\"edge17\" class=\"edge\">\n<title>15&#45;&gt;17</title>\n<path fill=\"none\" stroke=\"black\" d=\"M786.74,-296.88C804.5,-287.04 824.11,-276.17 842.39,-266.03\"/>\n<polygon fill=\"black\" stroke=\"black\" points=\"844.2,-269.03 851.25,-261.12 840.8,-262.91 844.2,-269.03\"/>\n</g>\n<!-- 18 -->\n<g id=\"node19\" class=\"node\">\n<title>18</title>\n<polygon fill=\"none\" stroke=\"black\" points=\"900,-149.5 742,-149.5 742,-96.5 900,-96.5 900,-149.5\"/>\n<text text-anchor=\"middle\" x=\"821\" y=\"-134.3\" font-family=\"Helvetica,sans-Serif\" font-size=\"14.00\">squared_error = 29.568</text>\n<text text-anchor=\"middle\" x=\"821\" y=\"-119.3\" font-family=\"Helvetica,sans-Serif\" font-size=\"14.00\">samples = 6</text>\n<text text-anchor=\"middle\" x=\"821\" y=\"-104.3\" font-family=\"Helvetica,sans-Serif\" font-size=\"14.00\">value = 482.267</text>\n</g>\n<!-- 17&#45;&gt;18 -->\n<g id=\"edge18\" class=\"edge\">\n<title>17&#45;&gt;18</title>\n<path fill=\"none\" stroke=\"black\" d=\"M881.78,-192.88C871.69,-181.45 860.38,-168.63 850.29,-157.19\"/>\n<polygon fill=\"black\" stroke=\"black\" points=\"852.76,-154.7 843.52,-149.52 847.51,-159.33 852.76,-154.7\"/>\n</g>\n<!-- 19 -->\n<g id=\"node20\" class=\"node\">\n<title>19</title>\n<polygon fill=\"none\" stroke=\"black\" points=\"1084,-149.5 918,-149.5 918,-96.5 1084,-96.5 1084,-149.5\"/>\n<text text-anchor=\"middle\" x=\"1001\" y=\"-134.3\" font-family=\"Helvetica,sans-Serif\" font-size=\"14.00\">squared_error = 178.521</text>\n<text text-anchor=\"middle\" x=\"1001\" y=\"-119.3\" font-family=\"Helvetica,sans-Serif\" font-size=\"14.00\">samples = 6</text>\n<text text-anchor=\"middle\" x=\"1001\" y=\"-104.3\" font-family=\"Helvetica,sans-Serif\" font-size=\"14.00\">value = 496.872</text>\n</g>\n<!-- 17&#45;&gt;19 -->\n<g id=\"edge19\" class=\"edge\">\n<title>17&#45;&gt;19</title>\n<path fill=\"none\" stroke=\"black\" d=\"M940.22,-192.88C950.31,-181.45 961.62,-168.63 971.71,-157.19\"/>\n<polygon fill=\"black\" stroke=\"black\" points=\"974.49,-159.33 978.48,-149.52 969.24,-154.7 974.49,-159.33\"/>\n</g>\n<!-- 21 -->\n<g id=\"node22\" class=\"node\">\n<title>21</title>\n<polygon fill=\"none\" stroke=\"black\" points=\"817,-461.5 651,-461.5 651,-408.5 817,-408.5 817,-461.5\"/>\n<text text-anchor=\"middle\" x=\"734\" y=\"-446.3\" font-family=\"Helvetica,sans-Serif\" font-size=\"14.00\">squared_error = 934.925</text>\n<text text-anchor=\"middle\" x=\"734\" y=\"-431.3\" font-family=\"Helvetica,sans-Serif\" font-size=\"14.00\">samples = 7</text>\n<text text-anchor=\"middle\" x=\"734\" y=\"-416.3\" font-family=\"Helvetica,sans-Serif\" font-size=\"14.00\">value = 546.504</text>\n</g>\n<!-- 20&#45;&gt;21 -->\n<g id=\"edge21\" class=\"edge\">\n<title>20&#45;&gt;21</title>\n<path fill=\"none\" stroke=\"black\" d=\"M734,-504.88C734,-494.33 734,-482.6 734,-471.85\"/>\n<polygon fill=\"black\" stroke=\"black\" points=\"737.5,-471.52 734,-461.52 730.5,-471.52 737.5,-471.52\"/>\n</g>\n<!-- 22 -->\n<g id=\"node23\" class=\"node\">\n<title>22</title>\n<polygon fill=\"none\" stroke=\"black\" points=\"1008.5,-461.5 835.5,-461.5 835.5,-408.5 1008.5,-408.5 1008.5,-461.5\"/>\n<text text-anchor=\"middle\" x=\"922\" y=\"-446.3\" font-family=\"Helvetica,sans-Serif\" font-size=\"14.00\">squared_error = 1149.081</text>\n<text text-anchor=\"middle\" x=\"922\" y=\"-431.3\" font-family=\"Helvetica,sans-Serif\" font-size=\"14.00\">samples = 7</text>\n<text text-anchor=\"middle\" x=\"922\" y=\"-416.3\" font-family=\"Helvetica,sans-Serif\" font-size=\"14.00\">value = 671.749</text>\n</g>\n<!-- 20&#45;&gt;22 -->\n<g id=\"edge22\" class=\"edge\">\n<title>20&#45;&gt;22</title>\n<path fill=\"none\" stroke=\"black\" d=\"M795.04,-504.88C817.84,-492.51 843.61,-478.53 865.94,-466.41\"/>\n<polygon fill=\"black\" stroke=\"black\" points=\"867.84,-469.37 874.96,-461.52 864.5,-463.21 867.84,-469.37\"/>\n</g>\n</g>\n</svg>\n",
            "text/plain": [
              "<graphviz.sources.Source at 0x7d44ab7ffa90>"
            ]
          },
          "metadata": {},
          "execution_count": 12
        }
      ]
    },
    {
      "cell_type": "markdown",
      "source": [
        "In the above tree\n",
        "\n",
        "X[0]: Molecular weight\n",
        "\n",
        "X[1]: Critical temperature (K)\n",
        "\n",
        "X[2]: acentric factor\n",
        "\n",
        "We see that the root node corresponds to X[1] which is the critical temperature for a given molecule. Following the left-most branch, it is evident that when the critical temperature is less than 502.315 K (there are nine compounds) that satisfy this criteria, their boiling points are predicted to be 278.444 K. You are encouraged to identify these compounds and ensure that the average boiling points is 278.444 K!. On the other hand, if the critical temperature is between 502.315 and 557.17 K - the condition which is satisfied for six compunds - the boiling point is predicted to be 361.512 K. This is the power of decision tree models that they are easily interpretable.\n",
        "\n",
        "\n"
      ],
      "metadata": {
        "id": "pEOZ23A_scOR"
      }
    },
    {
      "cell_type": "markdown",
      "source": [
        "# XGBoost"
      ],
      "metadata": {
        "id": "yNkmHbPZ2GxL"
      }
    },
    {
      "cell_type": "markdown",
      "source": [
        "Let's import the model and query the regressor."
      ],
      "metadata": {
        "id": "M10xLRwOusZu"
      }
    },
    {
      "cell_type": "code",
      "source": [
        "from xgboost import XGBRegressor\n",
        "XGBRegressor?"
      ],
      "metadata": {
        "id": "sat-ijzme_mk"
      },
      "execution_count": 13,
      "outputs": []
    },
    {
      "cell_type": "markdown",
      "source": [
        "We will vary the number of trees that we want to develop from 1 to 10 to show the variation in the performance of the model."
      ],
      "metadata": {
        "id": "D7O5EcI0uxUP"
      }
    },
    {
      "cell_type": "code",
      "source": [
        "n_boosted_trees = 10\n",
        "train_score = np.zeros((n_boosted_trees,))\n",
        "test_score = np.zeros((n_boosted_trees,))\n",
        "\n",
        "for i in range(1,n_boosted_trees+1):\n",
        "  xgb_model = XGBRegressor(n_estimators=i)\n",
        "  xgb_model.fit(x_train,y_train)\n",
        "  print('Number of estimators is %d and score %8.3f'\n",
        "        % (i, xgb_model.score(x_train,y_train)))\n",
        "  train_score[i-1] = xgb_model.score(x_train,y_train)\n",
        "  test_score[i-1] = xgb_model.score(x_test,y_test)\n",
        "\n"
      ],
      "metadata": {
        "id": "MjcTRkgp3A7r",
        "colab": {
          "base_uri": "https://localhost:8080/"
        },
        "outputId": "e0796757-0cd8-4f79-e74a-66b278c79b7e"
      },
      "execution_count": 14,
      "outputs": [
        {
          "output_type": "stream",
          "name": "stdout",
          "text": [
            "Number of estimators is 1 and score    0.444\n",
            "Number of estimators is 2 and score    0.689\n",
            "Number of estimators is 3 and score    0.825\n",
            "Number of estimators is 4 and score    0.900\n",
            "Number of estimators is 5 and score    0.941\n",
            "Number of estimators is 6 and score    0.966\n",
            "Number of estimators is 7 and score    0.979\n",
            "Number of estimators is 8 and score    0.987\n",
            "Number of estimators is 9 and score    0.991\n",
            "Number of estimators is 10 and score    0.994\n"
          ]
        }
      ]
    },
    {
      "cell_type": "code",
      "source": [
        "plt.plot(np.arange(1,11),train_score,label='Training Score')\n",
        "plt.plot(np.arange(1,11),test_score,label='Test Score')\n",
        "plt.xlabel('Number of estimators')\n",
        "plt.ylabel('Score')\n",
        "plt.legend()\n"
      ],
      "metadata": {
        "colab": {
          "base_uri": "https://localhost:8080/",
          "height": 467
        },
        "id": "IKMYBe505NMr",
        "outputId": "c906df00-1ba0-48ea-e0e7-58edd71487e8"
      },
      "execution_count": 15,
      "outputs": [
        {
          "output_type": "execute_result",
          "data": {
            "text/plain": [
              "<matplotlib.legend.Legend at 0x7d44ab71b8e0>"
            ]
          },
          "metadata": {},
          "execution_count": 15
        },
        {
          "output_type": "display_data",
          "data": {
            "text/plain": [
              "<Figure size 640x480 with 1 Axes>"
            ],
            "image/png": "[encoded data removed]"
          },
          "metadata": {}
        }
      ]
    },
    {
      "cell_type": "markdown",
      "source": [
        "We can also evaluate which feature(s) is(are) important. Please note that we are using the model corresponding to 10 boosted trees."
      ],
      "metadata": {
        "id": "wM99aKeGvLK9"
      }
    },
    {
      "cell_type": "code",
      "source": [
        "# feature importance\n",
        "# Corresponds to n_estimators = 10\n",
        "xgb_model.feature_importances_"
      ],
      "metadata": {
        "id": "mhEubxPz5YJ6",
        "colab": {
          "base_uri": "https://localhost:8080/"
        },
        "outputId": "3c595cc2-e500-42ba-cc74-d1fbb6ce8e09"
      },
      "execution_count": 16,
      "outputs": [
        {
          "output_type": "execute_result",
          "data": {
            "text/plain": [
              "array([0.01104296, 0.93534905, 0.053608  ], dtype=float32)"
            ]
          },
          "metadata": {},
          "execution_count": 16
        }
      ]
    },
    {
      "cell_type": "markdown",
      "source": [
        "The second feature (critical temperature) is carries the most weight, which is consistent with our observation that the root node contains this feature (though not always necessary)."
      ],
      "metadata": {
        "id": "ee1q3vXVwIIo"
      }
    },
    {
      "cell_type": "code",
      "source": [],
      "metadata": {
        "id": "axDEqjm76XF8"
      },
      "execution_count": null,
      "outputs": []
    }
  ]
}